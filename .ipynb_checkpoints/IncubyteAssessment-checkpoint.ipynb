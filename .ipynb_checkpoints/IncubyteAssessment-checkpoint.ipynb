{
 "cells": [
  {
   "cell_type": "code",
   "execution_count": null,
   "metadata": {},
   "outputs": [],
   "source": [
    "# SPLITING DATA FROM DELIMITED TEXT FILE\n",
    "# AND STORING IT IN DATABASE"
   ]
  },
  {
   "cell_type": "code",
   "execution_count": 1,
   "metadata": {},
   "outputs": [
    {
     "name": "stdout",
     "output_type": "stream",
     "text": [
      "Connected... 8.0.23\n"
     ]
    }
   ],
   "source": [
    "#CONNECTION TO THE DATABASE\n",
    "import mysql.connector as mysql\n",
    "from mysql.connector import Error\n",
    "\n",
    "try:\n",
    "    instance = mysql.connect(host='localhost',database='incubyte',user='root',password='mysql@123')\n",
    "    if instance.is_connected():\n",
    "        db_info=instance.get_server_info()\n",
    "        print(\"Connected...\",db_info)\n",
    "except Error as e:\n",
    "    print(\"Error occured...\",e)"
   ]
  },
  {
   "cell_type": "code",
   "execution_count": 2,
   "metadata": {},
   "outputs": [
    {
     "name": "stdout",
     "output_type": "stream",
     "text": [
      "Alex \n",
      " 123457 \n",
      " OpenDate:  2010 / 10 / 12 \n",
      " CloseDate:  2012 / 10 / 13 \n",
      " MVD \n",
      " Paul \n",
      " SA \n",
      " USA \n",
      " 06031987 \n",
      " A\n",
      "\n",
      "John \n",
      " 123458 \n",
      " OpenDate:  2010 / 10 / 12 \n",
      " CloseDate:  2012 / 10 / 13 \n",
      " MVD \n",
      " Paul \n",
      " TN \n",
      " IND \n",
      " 06031987 \n",
      " A\n",
      "\n",
      "Mathew \n",
      " 123459 \n",
      " OpenDate:  2010 / 10 / 12 \n",
      " CloseDate:  2012 / 10 / 13 \n",
      " MVD \n",
      " Paul \n",
      " WAS \n",
      " PHIL \n",
      " 06031987 \n",
      " A\n",
      "\n",
      "Matt \n",
      " 12345 \n",
      " OpenDate:  2010 / 10 / 12 \n",
      " CloseDate:  2012 / 10 / 13 \n",
      " MVD \n",
      " Paul \n",
      " BOS \n",
      " NYC \n",
      " 06031987 \n",
      " A\n",
      "\n",
      "Jacob \n",
      " 1256 \n",
      " OpenDate:  2010 / 10 / 12 \n",
      " CloseDate:  2012 / 10 / 13 \n",
      " MVD \n",
      " Paul \n",
      " VIC \n",
      " AU \n",
      " 06031987 \n",
      " A\n",
      "------------------------------------------------\n"
     ]
    },
    {
     "data": {
      "text/plain": [
       "True"
      ]
     },
     "execution_count": 2,
     "metadata": {},
     "output_type": "execute_result"
    }
   ],
   "source": [
    "mycursor=instance.cursor(buffered=True)\n",
    "\n",
    "# SPLITING DATA FROM DELIMITED FILE\n",
    "with open('well.txt') as f:\n",
    "    lines = f.readlines()\n",
    "    for line in lines:        \n",
    "        name=line.split('|')[2]\n",
    "        cid=line.split('|')[3]\n",
    "        opendate=line.split('|')[4]\n",
    "        closedate=line.split('|')[5]\n",
    "        vacctype=line.split('|')[6]\n",
    "        dr=line.split('|')[7]\n",
    "        state=line.split('|')[8]\n",
    "        country=line.split('|')[9]\n",
    "        pc=0\n",
    "        dob=line.split('|')[10]\n",
    "        activeCust=line.split('|')[11]\n",
    "        \n",
    "        print(name,\"\\n\",cid,\"\\n\",\"OpenDate: \",opendate[0:4],\"/\",opendate[4:6],\"/\",opendate[6:8],\"\\n\",\"CloseDate: \",closedate[0:4],\"/\",closedate[4:6],\"/\",closedate[6:8],\"\\n\",vacctype,\"\\n\",dr,\"\\n\",state,\"\\n\",country,\"\\n\",dob,\"\\n\",activeCust)\n",
    "        \n",
    "#       INSERT QUERY IN CUSTOMER TABLE\n",
    "        data=(name, cid,opendate,closedate,vacctype,dr,state,country,pc,activeCust)\n",
    "        insql = \"\"\"INSERT INTO customer(CustomerName,CustomerID ,CustomerOpenDate ,LastConsultedDate,VaccinationType ,DoctorConsulted ,State ,Country,PostCode,ActiveCustomer) \n",
    "        VALUES (%s, %s, %s, %s, %s,%s,%s,%s,%s,%s)\"\"\"\n",
    "        mycursor.execute(insql,data)\n",
    "        \n",
    "#       CHECKING IF COUNTRY TABLE EXISITS OR NOT!  \n",
    "        flag=0\n",
    "        showQuery = \"show tables;\"\n",
    "        mycursor.execute(showQuery)\n",
    "        result =mycursor.fetchall()\n",
    "        for i in result:\n",
    "            if (i[0].upper()==country):\n",
    "                flag=1\n",
    "                break\n",
    "\n",
    "        if (flag==0):\n",
    "#           IF TABLE DOES NOT EXISITS THEN IT WILL CREATE A NEW TABLE OF COUNTRY NAME AND INSERT DATA IN IT!  \n",
    "            mycursor.execute(\"\"\"CREATE TABLE \"\"\" +country+ \"\"\" (\n",
    "              `CustomerName` VARCHAR(255) NOT NULL,\n",
    "              `CustomerID` VARCHAR(18) NOT NULL,\n",
    "              `CustomerOpenDate` DATE NOT NULL,\n",
    "              `LastConsultedDate` DATE NULL,\n",
    "              `VaccinationType` CHAR(5) NULL,\n",
    "              `DoctorConsulted` CHAR(255) NULL,\n",
    "              `State` CHAR(5) NULL,\n",
    "              `Country` CHAR(5) NULL,\n",
    "              `PostCode` INT(5) NULL,\n",
    "              `DOB` DATE NULL,\n",
    "              `ActiveCustomer` CHAR(1) NULL,\n",
    "              PRIMARY KEY (`CustomerName`))\"\"\")\n",
    "\n",
    "            newsql = \"\"\"INSERT INTO \"\"\"+ country+\"\"\"(CustomerName,CustomerID ,CustomerOpenDate ,LastConsultedDate,VaccinationType ,DoctorConsulted ,State ,Country,PostCode,ActiveCustomer) \n",
    "            VALUES (%s, %s, %s, %s, %s,%s,%s,%s,%s,%s)\"\"\"\n",
    "            mycursor.execute(newsql,data)\n",
    "        else:\n",
    "#           IF TABLE EXISITS THEN IT WILL INSERT DATA IN IT!              \n",
    "            wellsql = \"\"\"INSERT INTO \"\"\"+ country+\"\"\"(CustomerName,CustomerID ,CustomerOpenDate ,LastConsultedDate,VaccinationType ,DoctorConsulted ,State ,Country,PostCode,ActiveCustomer) \n",
    "            VALUES (%s, %s, %s, %s, %s,%s,%s,%s,%s,%s)\"\"\"\n",
    "            mycursor.execute(wellsql,data)            \n",
    "        \n",
    "        \n",
    "print(\"------------------------------------------------\")\n",
    "\n",
    "instance.commit()  \n",
    "mycursor.close()\n"
   ]
  },
  {
   "cell_type": "code",
   "execution_count": null,
   "metadata": {},
   "outputs": [],
   "source": []
  },
  {
   "cell_type": "code",
   "execution_count": null,
   "metadata": {},
   "outputs": [],
   "source": []
  },
  {
   "cell_type": "code",
   "execution_count": null,
   "metadata": {},
   "outputs": [],
   "source": [
    "# DUMMY CODE FOR TRIALS AND TESTING\n",
    "# with open('well.txt') as f:\n",
    "#     lines = f.readlines()\n",
    "# #     print (lines)\n",
    "#     for line in lines:\n",
    "#         name=line.split('|')[2]\n",
    "#         cid=line.split('|')[3]\n",
    "#         opendate=line.split('|')[4]\n",
    "#         closedate=line.split('|')[5]\n",
    "#         vacctype=line.split('|')[6]\n",
    "#         dr=line.split('|')[7]\n",
    "#         state=line.split('|')[8]\n",
    "#         country=line.split('|')[9]\n",
    "#         pc=0\n",
    "#         dob=line.split('|')[10]\n",
    "#         activeCust=line.split('|')[11]\n",
    "        \n",
    "#         print(name,\"\\n\",cid,\"\\n\",\"OpenDate: \",opendate[0:4],\"/\",opendate[4:6],\"/\",opendate[6:8],\"\\n\",\"CloseDate: \",closedate[0:4],\"/\",closedate[4:6],\"/\",closedate[6:8],\"\\n\",vacctype,\"\\n\",dr,\"\\n\",state,\"\\n\",country,\"\\n\",dob,\"\\n\",activeCust)\n",
    "        \n",
    "# print(lines)\n",
    "# f = open('well2.txt', 'w')\n",
    "# for us in txt2:\n",
    "#     f.write(us)\n",
    "\n",
    "# txt1 = open(\"well.txt\").read()\n",
    "# txt2 = txt1.split(\"|\")\n",
    "# # print(txt2)\n",
    "# for i in txt2:\n",
    "#     if(i==\"D\"):\n",
    "#         print(i)\n",
    "    "
   ]
  },
  {
   "cell_type": "code",
   "execution_count": 89,
   "metadata": {},
   "outputs": [
    {
     "name": "stdout",
     "output_type": "stream",
     "text": [
      "exists\n"
     ]
    }
   ],
   "source": [
    "# DUMMY CODE FOR TRIALS AND TESTING\n",
    "\n",
    "# mycursor=instance.cursor(buffered=True)\n",
    "# coun='customer'\n",
    "# flag=0\n",
    "# stmt = \"show tables;\"\n",
    "# mycursor.execute(stmt)\n",
    "# result =mycursor.fetchall()\n",
    "# # print(result)\n",
    "# for i in result:\n",
    "# #     print(i)\n",
    "#     if (i[0]==coun):\n",
    "#         flag=1\n",
    "#         break\n",
    "\n",
    "# if (flag==0):\n",
    "    \n",
    "# else:\n",
    "#     print(\"exists\")"
   ]
  },
  {
   "cell_type": "code",
   "execution_count": 94,
   "metadata": {},
   "outputs": [],
   "source": []
  },
  {
   "cell_type": "code",
   "execution_count": null,
   "metadata": {},
   "outputs": [],
   "source": [
    "# CREATE TABLE `incubyte`.`customer` (\n",
    "#   `CustomerName` VARCHAR(255) NOT NULL,\n",
    "#   `CustomerID` VARCHAR(18) NOT NULL,\n",
    "#   `CustomerOpenDate` DATE NOT NULL,\n",
    "#   `LastConsultedDate` DATE NULL,\n",
    "#   `VaccineType` CHAR(5) NULL,\n",
    "#   `DoctorConsulted` CHAR(255) NULL,\n",
    "#   `State` CHAR(5) NULL,\n",
    "#   `Country` CHAR(5) NULL,\n",
    "#   `PostCode` INT(5) NULL,\n",
    "#   `DOB` DATE NULL,\n",
    "#   `ActiveCustomer` CHAR(1) NULL,\n",
    "#   PRIMARY KEY (`CustomerName`));\n",
    "--------------------------------------------\n",
    "# try:\n",
    "#    conn.commit()\n",
    "\n",
    "# except:\n",
    "#    conn.rollback()"
   ]
  }
 ],
 "metadata": {
  "kernelspec": {
   "display_name": "Python 3",
   "language": "python",
   "name": "python3"
  },
  "language_info": {
   "codemirror_mode": {
    "name": "ipython",
    "version": 3
   },
   "file_extension": ".py",
   "mimetype": "text/x-python",
   "name": "python",
   "nbconvert_exporter": "python",
   "pygments_lexer": "ipython3",
   "version": "3.8.3"
  }
 },
 "nbformat": 4,
 "nbformat_minor": 4
}
